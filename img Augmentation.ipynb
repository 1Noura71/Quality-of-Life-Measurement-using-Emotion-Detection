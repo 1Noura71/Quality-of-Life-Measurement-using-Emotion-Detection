{
 "cells": [
  {
   "cell_type": "code",
   "execution_count": 57,
   "id": "7b688374",
   "metadata": {},
   "outputs": [],
   "source": [
    "from keras_preprocessing.image import ImageDataGenerator, array_to_img, img_to_array, load_img\n",
    "import os\n",
    "from os import listdir\n",
    "import cv2"
   ]
  },
  {
   "cell_type": "code",
   "execution_count": 58,
   "id": "bff00376",
   "metadata": {},
   "outputs": [],
   "source": [
    "datagen = ImageDataGenerator(\n",
    "        rotation_range=40,\n",
    "        width_shift_range=0.2,\n",
    "        height_shift_range=0.2,\n",
    "        shear_range=0.2,\n",
    "        zoom_range=0.2,\n",
    "        vertical_flip=True,\n",
    "        horizontal_flip=True,\n",
    "        fill_mode='reflect')"
   ]
  },
  {
   "cell_type": "code",
   "execution_count": 59,
   "id": "802f2b23",
   "metadata": {},
   "outputs": [],
   "source": [
    "folder_dir = \"D:/dataset/emotic_T/emotic subfolder/Anger\""
   ]
  },
  {
   "cell_type": "code",
   "execution_count": 61,
   "id": "8f60be77",
   "metadata": {},
   "outputs": [],
   "source": [
    "i = 0\n",
    "for file in os.listdir(folder_dir):\n",
    "    # Construct the full file path\n",
    "    file_path = os.path.join(folder_dir,file)\n",
    "    image = cv2.imread(file_path)\n",
    "    image = cv2.cvtColor(image, cv2.COLOR_BGR2RGB)\n",
    "    image = image.reshape((1,) + image.shape)\n",
    "    for batch in datagen.flow(image, batch_size=1,\n",
    "                              save_to_dir='D:/dataset/emotic_T/emotic subfolder/Augmentation', \n",
    "                              save_prefix='Anger', save_format='jpg'):\n",
    "        i += 1\n",
    "        if i > 20:\n",
    "            break"
   ]
  },
  {
   "cell_type": "code",
   "execution_count": null,
   "id": "3ee74e35",
   "metadata": {},
   "outputs": [],
   "source": []
  }
 ],
 "metadata": {
  "kernelspec": {
   "display_name": "Python 3 (ipykernel)",
   "language": "python",
   "name": "python3"
  },
  "language_info": {
   "codemirror_mode": {
    "name": "ipython",
    "version": 3
   },
   "file_extension": ".py",
   "mimetype": "text/x-python",
   "name": "python",
   "nbconvert_exporter": "python",
   "pygments_lexer": "ipython3",
   "version": "3.9.13"
  }
 },
 "nbformat": 4,
 "nbformat_minor": 5
}
