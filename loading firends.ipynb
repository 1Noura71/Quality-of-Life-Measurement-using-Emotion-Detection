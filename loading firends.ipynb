{
 "cells": [
  {
   "cell_type": "code",
   "execution_count": 13,
   "id": "38e2d877",
   "metadata": {},
   "outputs": [],
   "source": [
    "import cv2\n",
    "import os\n",
    "import mediapipe as mp \n",
    "import numpy as np \n",
    "import csv\n",
    "import sys"
   ]
  },
  {
   "cell_type": "code",
   "execution_count": 14,
   "id": "3edf9206",
   "metadata": {},
   "outputs": [],
   "source": [
    "root_dir = 'D:/dataset/MELD.Raw/MELD subfolder'"
   ]
  },
  {
   "cell_type": "code",
   "execution_count": 3,
   "id": "adae56e2",
   "metadata": {},
   "outputs": [],
   "source": [
    "labels = []\n",
    "\n",
    "# Define a dictionary to map the folder names to labels\n",
    "label_dict = {'anger' : 'anger', 'disgust' : 'disgust', 'fear': 'fear', 'joy' : 'joy', 'neutral': 'neutral', 'sadness' : 'sadness', 'surprise': 'surprise'}"
   ]
  },
  {
   "cell_type": "code",
   "execution_count": 4,
   "id": "bf7d4c4c",
   "metadata": {},
   "outputs": [],
   "source": [
    "coords_num = 501 # the number of landmarks detected by Mediapipe for the face (468) and the pose (33) \n",
    "landmarks = ['class']\n",
    "for value in range(1, coords_num+1):\n",
    "    landmarks += ['x{}'.format(value), 'y{}'.format(value),'z{}'.format(value), 'v{}'.format(value)]"
   ]
  },
  {
   "cell_type": "code",
   "execution_count": 15,
   "id": "616ff0ba",
   "metadata": {},
   "outputs": [],
   "source": [
    "with open('D:/dataset/MELD.csv', mode='w', newline='') as coords:\n",
    "    csv_writer = csv.writer(coords, delimiter=',', quotechar='\"', quoting=csv.QUOTE_MINIMAL)\n",
    "    csv_writer.writerow(landmarks)"
   ]
  },
  {
   "cell_type": "markdown",
   "id": "47d66b35",
   "metadata": {},
   "source": [
    "# Detections"
   ]
  },
  {
   "cell_type": "code",
   "execution_count": 17,
   "id": "040392c0",
   "metadata": {},
   "outputs": [
    {
     "name": "stdout",
     "output_type": "stream",
     "text": [
      "Error opening video\n"
     ]
    },
    {
     "ename": "SystemExit",
     "evalue": "",
     "output_type": "error",
     "traceback": [
      "An exception has occurred, use %tb to see the full traceback.\n",
      "\u001b[1;31mSystemExit\u001b[0m\n"
     ]
    },
    {
     "name": "stderr",
     "output_type": "stream",
     "text": [
      "C:\\Users\\toto1\\anaconda3\\lib\\site-packages\\IPython\\core\\interactiveshell.py:3465: UserWarning: To exit: use 'exit', 'quit', or Ctrl-D.\n",
      "  warn(\"To exit: use 'exit', 'quit', or Ctrl-D.\", stacklevel=1)\n"
     ]
    }
   ],
   "source": [
    "# initializing the landmarks drawing utilites \n",
    "mp_drawing = mp.solutions.drawing_utils\n",
    "# mediapipe landmark detection models\n",
    "mp_holistic = mp.solutions.holistic\n",
    "with mp_holistic.Holistic(min_detection_confidence=0.5, min_tracking_confidence=0.5) as holistic:\n",
    "    \n",
    "    # Traverse the directory tree\n",
    "    for subdir, dirs, files in os.walk(root_dir):\n",
    "        # Extract the label from the folder name\n",
    "        label = os.path.basename(subdir)\n",
    "        # Check if the label is in the dictionary\n",
    "        if label in label_dict.values():\n",
    "            # Iterate over the files in the current directory\n",
    "            for file in files:\n",
    "                # Check if the file is a video\n",
    "                if file.endswith('.MP4'):\n",
    "                    # Construct the full file path\n",
    "                    file_path = os.path.join(subdir, file)\n",
    "                    # Read the video using OpenCV\n",
    "                    video_capture = cv2.VideoCapture(file_path)\n",
    "                    # Check if the video was opened successfully\n",
    "                    if not video_capture.isOpened():\n",
    "                        print(\"Error opening video\")\n",
    "                        sys.exit()\n",
    "                    # Loop over the frames in the video\n",
    "                    while True:\n",
    "                        # Read a frame from the video\n",
    "                        ret, frame = video_capture.read()\n",
    "                        # Check if we reached the end of the video\n",
    "                        if not ret:\n",
    "                            break\n",
    "                        # Pass the frame to medipipe for detection\n",
    "                        results = holistic.process(cv2.cvtColor(frame, cv2.COLOR_BGR2RGB))\n",
    "                        # Draw face landmarks\n",
    "                        mp_drawing.draw_landmarks(frame, results.face_landmarks, mp_holistic.FACEMESH_TESSELATION,\n",
    "                                                  mp_drawing.DrawingSpec(color=(80, 110, 10), thickness=1, circle_radius=1),\n",
    "                                                  mp_drawing.DrawingSpec(color=(80, 256, 121), thickness=1, circle_radius=1)\n",
    "                                                  )\n",
    "                        # Draw right hand landmarks\n",
    "                        mp_drawing.draw_landmarks(frame, results.right_hand_landmarks, mp_holistic.HAND_CONNECTIONS,\n",
    "                                                  mp_drawing.DrawingSpec(color=(80, 22, 10), thickness=2, circle_radius=4),\n",
    "                                                  mp_drawing.DrawingSpec(color=(80, 44, 121), thickness=2, circle_radius=2)\n",
    "                                                  )\n",
    "                        # Draw left hand landmarks\n",
    "                        mp_drawing.draw_landmarks(frame, results.left_hand_landmarks, mp_holistic.HAND_CONNECTIONS,\n",
    "                                                  mp_drawing.DrawingSpec(color=(121, 22, 76), thickness=2, circle_radius=4),\n",
    "                                                  mp_drawing.DrawingSpec(color=(121, 44, 250), thickness=2, circle_radius=2)\n",
    "                                                  )\n",
    "                        \n",
    "                        # Draw left hand landmarks\n",
    "                        mp_drawing.draw_landmarks(frame, results.pose_landmarks, mp_holistic.POSE_CONNECTIONS,\n",
    "                                              mp_drawing.DrawingSpec(color=(245,117,66), thickness=2, circle_radius=4),\n",
    "                                              mp_drawing.DrawingSpec(color=(245,66,230), thickness=2, circle_radius=2)\n",
    "                                              )\n",
    "\n",
    "                         # Export Coordinates\n",
    "                        try:\n",
    "                            # Extract pose landmarks\n",
    "                            pose = results.pose_landmarks.landmark\n",
    "                            pose_row= list(np.array([[landmark.x, landmark.y, landmark.z, landmark.visibility]for landmark in pose]).flatten())\n",
    "\n",
    "                            # Extract face landmarks\n",
    "                            face = results.face_landmarks.landmark\n",
    "                            face_row= list(np.array([[landmark.x, landmark.y, landmark.z, landmark.visibility]for landmark in face]).flatten())\n",
    "\n",
    "                            # concatenate rows\n",
    "                            row = pose_row + face_row\n",
    "\n",
    "                            # Append class name\n",
    "                            row.insert(0, label_dict[label])\n",
    "\n",
    "                            # Export to CSV\n",
    "                            with open('D:/dataset/MELD.csv', mode='a', newline='') as coords:\n",
    "                                csv_writer = csv.writer(coords, delimiter=',', quotechar='\"', quoting=csv.QUOTE_MINIMAL)\n",
    "                                csv_writer.writerow(row) \n",
    "                        except:\n",
    "                            pass"
   ]
  },
  {
   "cell_type": "markdown",
   "id": "9b93fbb8",
   "metadata": {},
   "source": [
    "# -"
   ]
  },
  {
   "cell_type": "code",
   "execution_count": 11,
   "id": "1aea71dd",
   "metadata": {},
   "outputs": [],
   "source": [
    "mp_drawing = mp.solutions.drawing_utils\n",
    "mp_holistic = mp.solutions.holistic\n",
    "cap = cv2.VideoCapture(r'C:\\Users\\loading emotic dataset\\DR\\surprise\\dia38_utt11.MP4')\n",
    "with mp_holistic.Holistic(min_detection_confidence=0.5, min_tracking_confidence=0.5) as holistic:\n",
    "    \n",
    "    while cap.isOpened():\n",
    "        ret, frame = cap.read()\n",
    "        if ret == True:\n",
    "\n",
    "            # Recolor Feed\n",
    "            image = cv2.cvtColor(frame, cv2.COLOR_BGR2RGB)\n",
    "            image.flags.writeable = False        \n",
    "\n",
    "            # Make Detections\n",
    "            results = holistic.process(image)\n",
    "\n",
    "            # Recolor image back to BGR for rendering\n",
    "            image.flags.writeable = True   \n",
    "            image = cv2.cvtColor(image, cv2.COLOR_RGB2BGR)\n",
    "\n",
    "            # 1. Draw face landmarks\n",
    "            mp_drawing.draw_landmarks(image, results.face_landmarks, mp_holistic.FACEMESH_TESSELATION, \n",
    "                                     mp_drawing.DrawingSpec(color=(80,110,10), thickness=1, circle_radius=1),\n",
    "                                     mp_drawing.DrawingSpec(color=(80,256,121), thickness=1, circle_radius=1)\n",
    "                                     )\n",
    "\n",
    "            # 2. Right hand\n",
    "            mp_drawing.draw_landmarks(image, results.right_hand_landmarks, mp_holistic.HAND_CONNECTIONS, \n",
    "                                     mp_drawing.DrawingSpec(color=(80,22,10), thickness=2, circle_radius=4),\n",
    "                                     mp_drawing.DrawingSpec(color=(80,44,121), thickness=2, circle_radius=2)\n",
    "                                     )\n",
    "\n",
    "            # 3. Left Hand\n",
    "            mp_drawing.draw_landmarks(image, results.left_hand_landmarks, mp_holistic.HAND_CONNECTIONS, \n",
    "                                     mp_drawing.DrawingSpec(color=(121,22,76), thickness=2, circle_radius=4),\n",
    "                                     mp_drawing.DrawingSpec(color=(121,44,250), thickness=2, circle_radius=2)\n",
    "                                     )\n",
    "\n",
    "            # 4. Pose Detections\n",
    "            mp_drawing.draw_landmarks(image, results.pose_landmarks, mp_holistic.POSE_CONNECTIONS, \n",
    "                                     mp_drawing.DrawingSpec(color=(245,117,66), thickness=2, circle_radius=4),\n",
    "                                     mp_drawing.DrawingSpec(color=(245,66,230), thickness=2, circle_radius=2)\n",
    "                                     )\n",
    "\n",
    "            cv2.imshow('Raw Webcam Feed', image)\n",
    "\n",
    "            if cv2.waitKey(10) & 0xFF == ord('q'):\n",
    "                break\n",
    "    \n",
    "        else:\n",
    "            break\n",
    "cap.release()\n",
    "cv2.destroyAllWindows()"
   ]
  },
  {
   "cell_type": "code",
   "execution_count": null,
   "id": "1fb40691",
   "metadata": {},
   "outputs": [],
   "source": []
  }
 ],
 "metadata": {
  "kernelspec": {
   "display_name": "Python 3 (ipykernel)",
   "language": "python",
   "name": "python3"
  },
  "language_info": {
   "codemirror_mode": {
    "name": "ipython",
    "version": 3
   },
   "file_extension": ".py",
   "mimetype": "text/x-python",
   "name": "python",
   "nbconvert_exporter": "python",
   "pygments_lexer": "ipython3",
   "version": "3.9.13"
  }
 },
 "nbformat": 4,
 "nbformat_minor": 5
}
